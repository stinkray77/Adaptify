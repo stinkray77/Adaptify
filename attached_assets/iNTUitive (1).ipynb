{
 "cells": [
  {
   "cell_type": "code",
   "execution_count": 3,
   "id": "fa88b13b-8d03-4d03-adf8-02c2da9577ef",
   "metadata": {},
   "outputs": [
    {
     "name": "stdout",
     "output_type": "stream",
     "text": [
      "Recommended Worker Pairs for Training:\n",
      "Worker 2 paired with Worker 1\n",
      "Worker 4 paired with Worker 3\n",
      "Worker 6 paired with Worker 3\n"
     ]
    },
    {
     "data": {
      "image/png": "[encoded data removed]",
      "text/plain": [
       "<Figure size 640x480 with 2 Axes>"
      ]
     },
     "metadata": {},
     "output_type": "display_data"
    }
   ],
   "source": [
    "import numpy as np\n",
    "import pandas as pd\n",
    "from sklearn.cluster import KMeans\n",
    "import matplotlib.pyplot as plt\n",
    "\n",
    "# Sample data - Worker ID, Task Time, Errors, Sentiment, Task Type\n",
    "data = [\n",
    "    {\"worker_id\": 1, \"task_time\": 45, \"errors\": 3, \"sentiment\": \"negative\", \"task_type\": \"machine_setup\"},\n",
    "    {\"worker_id\": 2, \"task_time\": 30, \"errors\": 1, \"sentiment\": \"positive\", \"task_type\": \"machine_setup\"},\n",
    "    {\"worker_id\": 3, \"task_time\": 60, \"errors\": 5, \"sentiment\": \"negative\", \"task_type\": \"software_setup\"},\n",
    "    {\"worker_id\": 4, \"task_time\": 20, \"errors\": 0, \"sentiment\": \"positive\", \"task_type\": \"software_setup\"},\n",
    "    {\"worker_id\": 5, \"task_time\": 50, \"errors\": 4, \"sentiment\": \"negative\", \"task_type\": \"machine_setup\"},\n",
    "    {\"worker_id\": 6, \"task_time\": 25, \"errors\": 1, \"sentiment\": \"positive\", \"task_type\": \"software_setup\"},\n",
    "]\n",
    "\n",
    "# Convert data to pandas DataFrame for easier manipulation\n",
    "df = pd.DataFrame(data)\n",
    "\n",
    "# Feature columns (task time, errors)\n",
    "X = df[['task_time', 'errors']].values\n",
    "\n",
    "# Initialize the KMeans model with 2 clusters (proficient and needs training)\n",
    "kmeans = KMeans(n_clusters=2, random_state=42)\n",
    "\n",
    "# Fit the KMeans model to the data\n",
    "kmeans.fit(X)\n",
    "\n",
    "# Assign the cluster labels to the dataframe\n",
    "df['cluster'] = kmeans.labels_\n",
    "\n",
    "# Suggest worker pairings\n",
    "def suggest_worker_pairs(df):\n",
    "    # Split the workers into proficient and non-proficient based on the cluster label\n",
    "    proficient_workers = df[df['cluster'] == 0]\n",
    "    less_proficient_workers = df[df['cluster'] == 1]\n",
    "    \n",
    "    pairs = []\n",
    "    \n",
    "    for idx, less_proficient in less_proficient_workers.iterrows():\n",
    "        # Find the most suitable proficient worker from the same task_type\n",
    "        task_type = less_proficient['task_type']\n",
    "        \n",
    "        # Filter the proficient workers by task_type\n",
    "        possible_buddies = proficient_workers[proficient_workers['task_type'] == task_type]\n",
    "        \n",
    "        # Suggest the first available proficient worker as a buddy (this can be adjusted)\n",
    "        if not possible_buddies.empty:\n",
    "            buddy = possible_buddies.iloc[0]\n",
    "            pairs.append((less_proficient['worker_id'], buddy['worker_id']))\n",
    "        else:\n",
    "            # If no buddy with the same task_type, suggest the first proficient worker (can also be randomized)\n",
    "            buddy = proficient_workers.iloc[0]\n",
    "            pairs.append((less_proficient['worker_id'], buddy['worker_id']))\n",
    "    \n",
    "    return pairs\n",
    "\n",
    "# Get the recommended pairs\n",
    "pairs = suggest_worker_pairs(df)\n",
    "\n",
    "# Print the recommended worker pairs\n",
    "print(\"Recommended Worker Pairs for Training:\")\n",
    "for pair in pairs:\n",
    "    print(f\"Worker {pair[0]} paired with Worker {pair[1]}\")\n",
    "\n",
    "# Visualize the results\n",
    "plt.scatter(df['task_time'], df['errors'], c=df['cluster'], cmap='viridis')\n",
    "plt.xlabel('Task Time (minutes)')\n",
    "plt.ylabel('Errors')\n",
    "plt.title('K-means Clustering of Workers (Proficient vs Needs Training)')\n",
    "plt.colorbar(label='Cluster')\n",
    "plt.show()\n",
    "\n"
   ]
  },
  {
   "cell_type": "code",
   "execution_count": 5,
   "id": "e6abf1b9-ffa9-4e42-8ea2-9f90f682b416",
   "metadata": {},
   "outputs": [
    {
     "name": "stdout",
     "output_type": "stream",
     "text": [
      "    worker_id  task_time  errors sentiment       task_type  urgency  cluster\n",
      "5           6         58       4  negative  software_setup     37.0        0\n",
      "12         13         59       3  negative   machine_setup     35.5        0\n",
      "19         20         57       3  negative  software_setup     34.5        0\n",
      "0           1         58       2  negative   machine_setup     33.0        0\n",
      "22         23         52       3  negative   machine_setup     32.0        1\n"
     ]
    }
   ],
   "source": [
    "import pandas as pd\n",
    "import numpy as np\n",
    "\n",
    "# Generate random urgency, task time, and errors for 30 workers\n",
    "np.random.seed(42)  # For reproducibility\n",
    "\n",
    "data = {\n",
    "    \"worker_id\": range(1, 31),\n",
    "    \"task_time\": np.random.randint(20, 60, 30),  # Task times between 20 and 60 minutes\n",
    "    \"errors\": np.random.randint(0, 5, 30),  # Random errors between 0 and 5\n",
    "    \"sentiment\": np.random.choice([\"positive\", \"negative\"], 30),  # Random sentiment\n",
    "    \"task_type\": np.random.choice([\"machine_setup\", \"software_setup\"], 30),  # Random task types\n",
    "}\n",
    "\n",
    "# Creating the DataFrame\n",
    "df = pd.DataFrame(data)\n",
    "\n",
    "# Calculate urgency based on task_time and errors (simplified model)\n",
    "df['urgency'] = (df['task_time'] * 0.5) + (df['errors'] * 2)  # Weighting time and errors\n",
    "df['cluster'] = np.random.choice([0, 1], size=(30,))  # Cluster 0 is proficient, 1 is training-needed\n",
    "\n",
    "# Sorting by urgency to show highest urgency first\n",
    "df = df.sort_values(by='urgency', ascending=False)\n",
    "\n",
    "# Show the DataFrame\n",
    "print(df.head())\n"
   ]
  },
  {
   "cell_type": "code",
   "execution_count": 7,
   "id": "9fc9dc10-c8cc-47dd-bcd5-de07f6f5ae6e",
   "metadata": {},
   "outputs": [
    {
     "name": "stdout",
     "output_type": "stream",
     "text": [
      "Recommended Worker Pairs for Training based on Urgency:\n",
      "Worker 23 paired with Worker 13\n",
      "Worker 18 paired with Worker 6\n",
      "Worker 11 paired with Worker 13\n",
      "Worker 12 paired with Worker 13\n",
      "Worker 22 paired with Worker 6\n",
      "Worker 5 paired with Worker 13\n",
      "Worker 14 paired with Worker 13\n",
      "Worker 7 paired with Worker 6\n",
      "Worker 3 paired with Worker 6\n",
      "Worker 30 paired with Worker 13\n",
      "Worker 10 paired with Worker 13\n",
      "Worker 21 paired with Worker 6\n",
      "Worker 17 paired with Worker 13\n"
     ]
    }
   ],
   "source": [
    "# Suggest worker pairs based on urgency and task_type\n",
    "def suggest_worker_pairs(df):\n",
    "    pairs = []\n",
    "    \n",
    "    # Loop through the workers sorted by urgency\n",
    "    for idx, high_urgency_worker in df.iterrows():\n",
    "        if high_urgency_worker['cluster'] == 1:  # If the worker needs more training\n",
    "            # Match with a worker from Cluster 0 (proficient workers)\n",
    "            potential_buddies = df[(df['cluster'] == 0) & (df['task_type'] == high_urgency_worker['task_type'])]\n",
    "            \n",
    "            if not potential_buddies.empty:\n",
    "                buddy = potential_buddies.iloc[0]  # Pick the first available buddy (this can be adjusted)\n",
    "                pairs.append((high_urgency_worker['worker_id'], buddy['worker_id']))\n",
    "                \n",
    "    return pairs\n",
    "\n",
    "# Get the recommended pairs based on urgency\n",
    "pairs = suggest_worker_pairs(df)\n",
    "\n",
    "# Print the recommended worker pairs\n",
    "print(\"Recommended Worker Pairs for Training based on Urgency:\")\n",
    "for pair in pairs:\n",
    "    print(f\"Worker {pair[0]} paired with Worker {pair[1]}\")\n"
   ]
  },
  {
   "cell_type": "code",
   "execution_count": null,
   "id": "56cf1ebc-44da-4a92-9414-f5d014d77fb2",
   "metadata": {},
   "outputs": [],
   "source": []
  }
 ],
 "metadata": {
  "kernelspec": {
   "display_name": "Python 3 (ipykernel)",
   "language": "python",
   "name": "python3"
  },
  "language_info": {
   "codemirror_mode": {
    "name": "ipython",
    "version": 3
   },
   "file_extension": ".py",
   "mimetype": "text/x-python",
   "name": "python",
   "nbconvert_exporter": "python",
   "pygments_lexer": "ipython3",
   "version": "3.12.4"
  }
 },
 "nbformat": 4,
 "nbformat_minor": 5
}
